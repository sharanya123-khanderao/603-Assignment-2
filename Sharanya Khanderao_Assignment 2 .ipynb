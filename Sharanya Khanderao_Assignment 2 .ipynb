{
 "cells": [
  {
   "cell_type": "code",
   "execution_count": 1,
   "id": "88119da2",
   "metadata": {},
   "outputs": [],
   "source": [
    "import pandas as pd\n",
    "df=pd.read_csv(\"yelp.csv\")\n",
    "df = df.replace(r'\\n',' ', regex=True)\n",
    "df.to_csv(\"yelp_modified.csv\")"
   ]
  },
  {
   "cell_type": "code",
   "execution_count": 2,
   "id": "b67a6e03",
   "metadata": {},
   "outputs": [],
   "source": [
    "#avg no. of words in each review"
   ]
  },
  {
   "cell_type": "code",
   "execution_count": 3,
   "id": "ac9dc121",
   "metadata": {},
   "outputs": [
    {
     "name": "stdout",
     "output_type": "stream",
     "text": [
      "Writing wordcount.py\n"
     ]
    }
   ],
   "source": [
    "%%file wordcount.py\n",
    "from mrjob.job import MRJob\n",
    "from statistics import mean\n",
    "import re\n",
    "\n",
    "class WordCountAvg(MRJob):\n",
    "\n",
    "    def mapper(self, _, line):\n",
    "        text = re.sub(r'[^\\w\\s]', '', line.lower())\n",
    "        yield None, sum(1 for word in text.split() if word != \"blacks\")\n",
    "\n",
    "    def reducer(self, _, word_counts):\n",
    "        yield \"average\", mean(word_counts)\n",
    "\n",
    "if __name__ == '__main__':\n",
    "    WordCountAvg.run()"
   ]
  },
  {
   "cell_type": "code",
   "execution_count": 5,
   "id": "43c3be8f",
   "metadata": {},
   "outputs": [
    {
     "name": "stderr",
     "output_type": "stream",
     "text": [
      "No configs specified for inline runner\n"
     ]
    },
    {
     "name": "stdout",
     "output_type": "stream",
     "text": [
      "average 130.42485751424857\n"
     ]
    }
   ],
   "source": [
    "import wordcount\n",
    "mr_job = wordcount.WordCountAvg(args=['yelp_modified.csv'])\n",
    "with mr_job.make_runner() as runner:\n",
    "    runner.run()\n",
    "    for key, value in mr_job.parse_output(runner.cat_output()):\n",
    "        print(key,value)"
   ]
  },
  {
   "cell_type": "code",
   "execution_count": 6,
   "id": "921bba5a",
   "metadata": {},
   "outputs": [],
   "source": [
    "#count of reviews by YY-MM"
   ]
  },
  {
   "cell_type": "code",
   "execution_count": 7,
   "id": "129df32d",
   "metadata": {},
   "outputs": [
    {
     "name": "stdout",
     "output_type": "stream",
     "text": [
      "Writing countpermonth.py\n"
     ]
    }
   ],
   "source": [
    "%%file countpermonth.py\n",
    "from mrjob.job import MRJob\n",
    "import re\n",
    "\n",
    "class CountPerMonth(MRJob):\n",
    "\n",
    "    def mapper(self, _, line):\n",
    "        # Use regular expression to extract date\n",
    "        date_match = re.search(r'\\d{4}-\\d{2}', line)\n",
    "        if date_match:\n",
    "            year_month = date_match.group(0)\n",
    "            yield year_month, 1\n",
    "\n",
    "    def reducer(self, month, counts):\n",
    "        # Sum up the counts for each month\n",
    "        yield month, sum(counts)\n",
    "\n",
    "if __name__ == '__main__':\n",
    "    CountPerMonth.run()"
   ]
  },
  {
   "cell_type": "code",
   "execution_count": 9,
   "id": "8df44f74",
   "metadata": {},
   "outputs": [
    {
     "name": "stderr",
     "output_type": "stream",
     "text": [
      "No configs specified for inline runner\n"
     ]
    },
    {
     "name": "stdout",
     "output_type": "stream",
     "text": [
      "2012-02 219\n",
      "2012-03 259\n",
      "2012-04 265\n",
      "2012-05 275\n",
      "2012-06 272\n",
      "2012-07 281\n",
      "2010-09 150\n",
      "2010-10 144\n",
      "2010-11 147\n",
      "2010-12 160\n",
      "2011-01 239\n",
      "2009-04 101\n",
      "2009-05 101\n",
      "2009-06 67\n",
      "2009-07 95\n",
      "2009-08 98\n",
      "2009-09 113\n",
      "2009-10 101\n",
      "2009-11 78\n",
      "2009-12 104\n",
      "2010-01 154\n",
      "2010-02 148\n",
      "2010-03 168\n",
      "2010-04 148\n",
      "2010-05 154\n",
      "2010-06 118\n",
      "2010-07 160\n",
      "2010-08 201\n",
      "2012-11 208\n",
      "2012-12 196\n",
      "2013-01 52\n",
      "2012-08 249\n",
      "2012-09 239\n",
      "2012-10 258\n",
      "2011-08 266\n",
      "2011-09 193\n",
      "2011-10 204\n",
      "2008-07 80\n",
      "2008-08 75\n",
      "2008-09 59\n",
      "2008-10 79\n",
      "2008-11 66\n",
      "2008-12 71\n",
      "2009-01 108\n",
      "2009-02 79\n",
      "2009-03 126\n",
      "2011-02 216\n",
      "2011-03 263\n",
      "2011-04 263\n",
      "2011-05 229\n",
      "2011-06 230\n",
      "2011-07 236\n",
      "2005-04 1\n",
      "2005-07 2\n",
      "2005-12 1\n",
      "2006-01 6\n",
      "2006-02 9\n",
      "2006-04 2\n",
      "2006-05 1\n",
      "2006-06 5\n",
      "2006-07 2\n",
      "2006-08 9\n",
      "2006-09 4\n",
      "2006-10 5\n",
      "2006-11 6\n",
      "2006-12 6\n",
      "2007-01 14\n",
      "2007-02 20\n",
      "2007-03 42\n",
      "2007-04 8\n",
      "2007-05 23\n",
      "2007-06 12\n",
      "2007-07 35\n",
      "2007-08 29\n",
      "2007-09 26\n",
      "2007-10 23\n",
      "2007-11 28\n",
      "2007-12 25\n",
      "2008-01 46\n",
      "2008-02 48\n",
      "2008-03 47\n",
      "2008-04 53\n",
      "2008-05 65\n",
      "2008-06 76\n",
      "2011-11 203\n",
      "2011-12 249\n",
      "2012-01 304\n"
     ]
    }
   ],
   "source": [
    "import countpermonth\n",
    "mr_job = countpermonth.CountPerMonth(args=['yelp_modified.csv'])\n",
    "with mr_job.make_runner() as runner:\n",
    "    runner.run()\n",
    "    for key, value in mr_job.parse_output(runner.cat_output()):\n",
    "        print(key,value)"
   ]
  },
  {
   "cell_type": "code",
   "execution_count": 10,
   "id": "1458d7fd",
   "metadata": {},
   "outputs": [],
   "source": [
    "#avg ratings marked by cool"
   ]
  },
  {
   "cell_type": "code",
   "execution_count": 11,
   "id": "0b533498",
   "metadata": {},
   "outputs": [
    {
     "name": "stdout",
     "output_type": "stream",
     "text": [
      "Writing cool.py\n"
     ]
    }
   ],
   "source": [
    "%%file cool.py\n",
    "from mrjob.job import MRJob\n",
    "import csv\n",
    "from statistics import mean\n",
    "import re\n",
    "\n",
    "class cool(MRJob):\n",
    "\n",
    "    def mapper(self, _, line):\n",
    "        row = next(csv.reader([line]))\n",
    "        id, business_id, date, review_id, stars, text, type, user_id, cool, useful, funny = row\n",
    "        if re.match(r'^[0-9]+$', stars) and int(cool) != 0:\n",
    "            yield None, int(stars)\n",
    "\n",
    "    def reducer(self, _, star_ratings):\n",
    "        # Computing the average star rating of cool reviews\n",
    "        ratings = list(star_ratings)\n",
    "        if ratings:\n",
    "            yield \"average\", mean(ratings)\n",
    "\n",
    "if __name__ == '__main__':\n",
    "    cool.run()"
   ]
  },
  {
   "cell_type": "code",
   "execution_count": 12,
   "id": "5ae8d11e",
   "metadata": {},
   "outputs": [
    {
     "name": "stderr",
     "output_type": "stream",
     "text": [
      "No configs specified for inline runner\n"
     ]
    },
    {
     "name": "stdout",
     "output_type": "stream",
     "text": [
      "average 3.8649595687331537\n"
     ]
    }
   ],
   "source": [
    "import cool\n",
    "\n",
    "mr_job = cool.cool(args=['yelp_modified.csv'])\n",
    "\n",
    "with mr_job.make_runner() as runner:\n",
    "    runner.run()\n",
    "    for key, value in mr_job.parse_output(runner.cat_output()):\n",
    "        print(\"average\", value)"
   ]
  }
 ],
 "metadata": {
  "kernelspec": {
   "display_name": "Python 3 (ipykernel)",
   "language": "python",
   "name": "python3"
  },
  "language_info": {
   "codemirror_mode": {
    "name": "ipython",
    "version": 3
   },
   "file_extension": ".py",
   "mimetype": "text/x-python",
   "name": "python",
   "nbconvert_exporter": "python",
   "pygments_lexer": "ipython3",
   "version": "3.11.4"
  }
 },
 "nbformat": 4,
 "nbformat_minor": 5
}
